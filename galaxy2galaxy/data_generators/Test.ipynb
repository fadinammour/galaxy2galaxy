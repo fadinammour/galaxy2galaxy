{
 "cells": [
  {
   "cell_type": "code",
   "execution_count": 3,
   "id": "fdf76d59",
   "metadata": {},
   "outputs": [],
   "source": [
    "import galsim\n",
    "import numpy as np\n",
    "from numpy.lib.recfunctions import append_fields"
   ]
  },
  {
   "cell_type": "code",
   "execution_count": 7,
   "id": "3249d6b0",
   "metadata": {},
   "outputs": [],
   "source": [
    "catalog = galsim.COSMOSCatalog(dir='/local/home/ua264756/Data/COSMOS_23.5_training_sample',sample='23.5', use_real=False)\n",
    "\n",
    "cat_param = catalog.param_cat[catalog.orig_index]"
   ]
  },
  {
   "cell_type": "code",
   "execution_count": 14,
   "id": "48a36a94",
   "metadata": {},
   "outputs": [
    {
     "data": {
      "text/plain": [
       "array([21.04064178, 21.78289413, 22.86185646, ..., 23.15193367,\n",
       "       20.25637245, 22.89007759])"
      ]
     },
     "execution_count": 14,
     "metadata": {},
     "output_type": "execute_result"
    }
   ],
   "source": [
    "cat_param['mag_auto']"
   ]
  },
  {
   "cell_type": "code",
   "execution_count": 25,
   "id": "12671ab9",
   "metadata": {},
   "outputs": [
    {
     "data": {
      "text/plain": [
       "dtype((numpy.record, [('IDENT', '>i4'), ('mag_auto', '>f8'), ('flux_radius', '>f8'), ('zphot', '>f8'), ('sersicfit', '>f8', (8,)), ('bulgefit', '>f8', (16,)), ('fit_status', '>i4', (5,)), ('fit_mad_s', '>f8'), ('fit_mad_b', '>f8'), ('fit_dvc_btt', '>f8'), ('use_bulgefit', '>i4'), ('viable_sersic', '>i4'), ('hlr', '>f8', (3,)), ('flux', '>f8', (4,))]))"
      ]
     },
     "execution_count": 25,
     "metadata": {},
     "output_type": "execute_result"
    }
   ],
   "source": [
    "cat_param.dtype"
   ]
  },
  {
   "cell_type": "code",
   "execution_count": 29,
   "id": "50e16d06",
   "metadata": {},
   "outputs": [
    {
     "ename": "ValueError",
     "evalue": "Need formats argument",
     "output_type": "error",
     "traceback": [
      "\u001b[0;31m---------------------------------------------------------------------------\u001b[0m",
      "\u001b[0;31mValueError\u001b[0m                                Traceback (most recent call last)",
      "\u001b[0;32m<ipython-input-29-ef75ee67da74>\u001b[0m in \u001b[0;36m<module>\u001b[0;34m\u001b[0m\n\u001b[0;32m----> 1\u001b[0;31m \u001b[0mnp\u001b[0m\u001b[0;34m.\u001b[0m\u001b[0mrecarray\u001b[0m\u001b[0;34m(\u001b[0m\u001b[0mcat_param\u001b[0m\u001b[0;34m)\u001b[0m\u001b[0;34m\u001b[0m\u001b[0;34m\u001b[0m\u001b[0m\n\u001b[0m",
      "\u001b[0;32m~/miniconda3/envs/py36/lib/python3.6/site-packages/numpy/core/records.py\u001b[0m in \u001b[0;36m__new__\u001b[0;34m(subtype, shape, dtype, buf, offset, strides, formats, names, titles, byteorder, aligned, order)\u001b[0m\n\u001b[1;32m    433\u001b[0m             \u001b[0mdescr\u001b[0m \u001b[0;34m=\u001b[0m \u001b[0msb\u001b[0m\u001b[0;34m.\u001b[0m\u001b[0mdtype\u001b[0m\u001b[0;34m(\u001b[0m\u001b[0mdtype\u001b[0m\u001b[0;34m)\u001b[0m\u001b[0;34m\u001b[0m\u001b[0;34m\u001b[0m\u001b[0m\n\u001b[1;32m    434\u001b[0m         \u001b[0;32melse\u001b[0m\u001b[0;34m:\u001b[0m\u001b[0;34m\u001b[0m\u001b[0;34m\u001b[0m\u001b[0m\n\u001b[0;32m--> 435\u001b[0;31m             \u001b[0mdescr\u001b[0m \u001b[0;34m=\u001b[0m \u001b[0mformat_parser\u001b[0m\u001b[0;34m(\u001b[0m\u001b[0mformats\u001b[0m\u001b[0;34m,\u001b[0m \u001b[0mnames\u001b[0m\u001b[0;34m,\u001b[0m \u001b[0mtitles\u001b[0m\u001b[0;34m,\u001b[0m \u001b[0maligned\u001b[0m\u001b[0;34m,\u001b[0m \u001b[0mbyteorder\u001b[0m\u001b[0;34m)\u001b[0m\u001b[0;34m.\u001b[0m\u001b[0mdtype\u001b[0m\u001b[0;34m\u001b[0m\u001b[0;34m\u001b[0m\u001b[0m\n\u001b[0m\u001b[1;32m    436\u001b[0m \u001b[0;34m\u001b[0m\u001b[0m\n\u001b[1;32m    437\u001b[0m         \u001b[0;32mif\u001b[0m \u001b[0mbuf\u001b[0m \u001b[0;32mis\u001b[0m \u001b[0;32mNone\u001b[0m\u001b[0;34m:\u001b[0m\u001b[0;34m\u001b[0m\u001b[0;34m\u001b[0m\u001b[0m\n",
      "\u001b[0;32m~/miniconda3/envs/py36/lib/python3.6/site-packages/numpy/core/records.py\u001b[0m in \u001b[0;36m__init__\u001b[0;34m(self, formats, names, titles, aligned, byteorder)\u001b[0m\n\u001b[1;32m    156\u001b[0m \u001b[0;34m\u001b[0m\u001b[0m\n\u001b[1;32m    157\u001b[0m     \u001b[0;32mdef\u001b[0m \u001b[0m__init__\u001b[0m\u001b[0;34m(\u001b[0m\u001b[0mself\u001b[0m\u001b[0;34m,\u001b[0m \u001b[0mformats\u001b[0m\u001b[0;34m,\u001b[0m \u001b[0mnames\u001b[0m\u001b[0;34m,\u001b[0m \u001b[0mtitles\u001b[0m\u001b[0;34m,\u001b[0m \u001b[0maligned\u001b[0m\u001b[0;34m=\u001b[0m\u001b[0;32mFalse\u001b[0m\u001b[0;34m,\u001b[0m \u001b[0mbyteorder\u001b[0m\u001b[0;34m=\u001b[0m\u001b[0;32mNone\u001b[0m\u001b[0;34m)\u001b[0m\u001b[0;34m:\u001b[0m\u001b[0;34m\u001b[0m\u001b[0;34m\u001b[0m\u001b[0m\n\u001b[0;32m--> 158\u001b[0;31m         \u001b[0mself\u001b[0m\u001b[0;34m.\u001b[0m\u001b[0m_parseFormats\u001b[0m\u001b[0;34m(\u001b[0m\u001b[0mformats\u001b[0m\u001b[0;34m,\u001b[0m \u001b[0maligned\u001b[0m\u001b[0;34m)\u001b[0m\u001b[0;34m\u001b[0m\u001b[0;34m\u001b[0m\u001b[0m\n\u001b[0m\u001b[1;32m    159\u001b[0m         \u001b[0mself\u001b[0m\u001b[0;34m.\u001b[0m\u001b[0m_setfieldnames\u001b[0m\u001b[0;34m(\u001b[0m\u001b[0mnames\u001b[0m\u001b[0;34m,\u001b[0m \u001b[0mtitles\u001b[0m\u001b[0;34m)\u001b[0m\u001b[0;34m\u001b[0m\u001b[0;34m\u001b[0m\u001b[0m\n\u001b[1;32m    160\u001b[0m         \u001b[0mself\u001b[0m\u001b[0;34m.\u001b[0m\u001b[0m_createdtype\u001b[0m\u001b[0;34m(\u001b[0m\u001b[0mbyteorder\u001b[0m\u001b[0;34m)\u001b[0m\u001b[0;34m\u001b[0m\u001b[0;34m\u001b[0m\u001b[0m\n",
      "\u001b[0;32m~/miniconda3/envs/py36/lib/python3.6/site-packages/numpy/core/records.py\u001b[0m in \u001b[0;36m_parseFormats\u001b[0;34m(self, formats, aligned)\u001b[0m\n\u001b[1;32m    164\u001b[0m \u001b[0;34m\u001b[0m\u001b[0m\n\u001b[1;32m    165\u001b[0m         \u001b[0;32mif\u001b[0m \u001b[0mformats\u001b[0m \u001b[0;32mis\u001b[0m \u001b[0;32mNone\u001b[0m\u001b[0;34m:\u001b[0m\u001b[0;34m\u001b[0m\u001b[0;34m\u001b[0m\u001b[0m\n\u001b[0;32m--> 166\u001b[0;31m             \u001b[0;32mraise\u001b[0m \u001b[0mValueError\u001b[0m\u001b[0;34m(\u001b[0m\u001b[0;34m\"Need formats argument\"\u001b[0m\u001b[0;34m)\u001b[0m\u001b[0;34m\u001b[0m\u001b[0;34m\u001b[0m\u001b[0m\n\u001b[0m\u001b[1;32m    167\u001b[0m         \u001b[0;32mif\u001b[0m \u001b[0misinstance\u001b[0m\u001b[0;34m(\u001b[0m\u001b[0mformats\u001b[0m\u001b[0;34m,\u001b[0m \u001b[0mlist\u001b[0m\u001b[0;34m)\u001b[0m\u001b[0;34m:\u001b[0m\u001b[0;34m\u001b[0m\u001b[0;34m\u001b[0m\u001b[0m\n\u001b[1;32m    168\u001b[0m             dtype = sb.dtype(\n",
      "\u001b[0;31mValueError\u001b[0m: Need formats argument"
     ]
    }
   ],
   "source": [
    "np.recarray(cat_param)"
   ]
  },
  {
   "cell_type": "code",
   "execution_count": 15,
   "id": "7858b0d9",
   "metadata": {},
   "outputs": [],
   "source": [
    "my_param = np.array([])\n",
    "my_param = append_fields(my_param, \"my_field\", np.arange(100))"
   ]
  },
  {
   "cell_type": "code",
   "execution_count": 17,
   "id": "99de8b63",
   "metadata": {},
   "outputs": [
    {
     "data": {
      "text/plain": [
       "masked_array(data=[(--, 0), (--, 1), (--, 2), (--, 3), (--, 4), (--, 5),\n",
       "                   (--, 6), (--, 7), (--, 8), (--, 9), (--, 10), (--, 11),\n",
       "                   (--, 12), (--, 13), (--, 14), (--, 15), (--, 16),\n",
       "                   (--, 17), (--, 18), (--, 19), (--, 20), (--, 21),\n",
       "                   (--, 22), (--, 23), (--, 24), (--, 25), (--, 26),\n",
       "                   (--, 27), (--, 28), (--, 29), (--, 30), (--, 31),\n",
       "                   (--, 32), (--, 33), (--, 34), (--, 35), (--, 36),\n",
       "                   (--, 37), (--, 38), (--, 39), (--, 40), (--, 41),\n",
       "                   (--, 42), (--, 43), (--, 44), (--, 45), (--, 46),\n",
       "                   (--, 47), (--, 48), (--, 49), (--, 50), (--, 51),\n",
       "                   (--, 52), (--, 53), (--, 54), (--, 55), (--, 56),\n",
       "                   (--, 57), (--, 58), (--, 59), (--, 60), (--, 61),\n",
       "                   (--, 62), (--, 63), (--, 64), (--, 65), (--, 66),\n",
       "                   (--, 67), (--, 68), (--, 69), (--, 70), (--, 71),\n",
       "                   (--, 72), (--, 73), (--, 74), (--, 75), (--, 76),\n",
       "                   (--, 77), (--, 78), (--, 79), (--, 80), (--, 81),\n",
       "                   (--, 82), (--, 83), (--, 84), (--, 85), (--, 86),\n",
       "                   (--, 87), (--, 88), (--, 89), (--, 90), (--, 91),\n",
       "                   (--, 92), (--, 93), (--, 94), (--, 95), (--, 96),\n",
       "                   (--, 97), (--, 98), (--, 99)],\n",
       "             mask=[( True, False), ( True, False), ( True, False),\n",
       "                   ( True, False), ( True, False), ( True, False),\n",
       "                   ( True, False), ( True, False), ( True, False),\n",
       "                   ( True, False), ( True, False), ( True, False),\n",
       "                   ( True, False), ( True, False), ( True, False),\n",
       "                   ( True, False), ( True, False), ( True, False),\n",
       "                   ( True, False), ( True, False), ( True, False),\n",
       "                   ( True, False), ( True, False), ( True, False),\n",
       "                   ( True, False), ( True, False), ( True, False),\n",
       "                   ( True, False), ( True, False), ( True, False),\n",
       "                   ( True, False), ( True, False), ( True, False),\n",
       "                   ( True, False), ( True, False), ( True, False),\n",
       "                   ( True, False), ( True, False), ( True, False),\n",
       "                   ( True, False), ( True, False), ( True, False),\n",
       "                   ( True, False), ( True, False), ( True, False),\n",
       "                   ( True, False), ( True, False), ( True, False),\n",
       "                   ( True, False), ( True, False), ( True, False),\n",
       "                   ( True, False), ( True, False), ( True, False),\n",
       "                   ( True, False), ( True, False), ( True, False),\n",
       "                   ( True, False), ( True, False), ( True, False),\n",
       "                   ( True, False), ( True, False), ( True, False),\n",
       "                   ( True, False), ( True, False), ( True, False),\n",
       "                   ( True, False), ( True, False), ( True, False),\n",
       "                   ( True, False), ( True, False), ( True, False),\n",
       "                   ( True, False), ( True, False), ( True, False),\n",
       "                   ( True, False), ( True, False), ( True, False),\n",
       "                   ( True, False), ( True, False), ( True, False),\n",
       "                   ( True, False), ( True, False), ( True, False),\n",
       "                   ( True, False), ( True, False), ( True, False),\n",
       "                   ( True, False), ( True, False), ( True, False),\n",
       "                   ( True, False), ( True, False), ( True, False),\n",
       "                   ( True, False), ( True, False), ( True, False),\n",
       "                   ( True, False), ( True, False), ( True, False),\n",
       "                   ( True, False)],\n",
       "       fill_value=(1.e+20, 999999),\n",
       "            dtype=[('f0', '<f8'), ('my_field', '<i8')])"
      ]
     },
     "execution_count": 17,
     "metadata": {},
     "output_type": "execute_result"
    }
   ],
   "source": [
    "my_param"
   ]
  },
  {
   "cell_type": "code",
   "execution_count": 43,
   "id": "bc8995cd",
   "metadata": {},
   "outputs": [
    {
     "data": {
      "text/plain": [
       "rec.array([(93970152068800, 0., 0), (             0, 0., 0)],\n",
       "          dtype=[('x', '<i8'), ('y', '<f8'), ('z', '<i8')])"
      ]
     },
     "execution_count": 43,
     "metadata": {},
     "output_type": "execute_result"
    }
   ],
   "source": [
    "np.recarray((2,),dtype=[('x', int), ('y', float), ('z', int)]) "
   ]
  },
  {
   "cell_type": "code",
   "execution_count": 46,
   "id": "27913d6f",
   "metadata": {},
   "outputs": [
    {
     "data": {
      "text/plain": [
       "rec.array([(93970154271024, 0., 0), (             1, 0., 0)],\n",
       "          dtype=[('x', '<i8'), ('y', '<f8'), ('z', '<i8')])"
      ]
     },
     "execution_count": 46,
     "metadata": {},
     "output_type": "execute_result"
    }
   ],
   "source": [
    "my_param = np.recarray((2,),dtype=[('x', int), ('y', float), ('z', int)]) \n",
    "my_param['x'][1] = 1\n",
    "my_param"
   ]
  },
  {
   "cell_type": "code",
   "execution_count": 39,
   "id": "0556c538",
   "metadata": {},
   "outputs": [
    {
     "data": {
      "text/plain": [
       "array([0.00620705, 0.32278158])"
      ]
     },
     "execution_count": 39,
     "metadata": {},
     "output_type": "execute_result"
    }
   ],
   "source": [
    "my_param['y']"
   ]
  },
  {
   "cell_type": "code",
   "execution_count": null,
   "id": "10100d48",
   "metadata": {},
   "outputs": [],
   "source": []
  }
 ],
 "metadata": {
  "kernelspec": {
   "display_name": "Python 3",
   "language": "python",
   "name": "python3"
  },
  "language_info": {
   "codemirror_mode": {
    "name": "ipython",
    "version": 3
   },
   "file_extension": ".py",
   "mimetype": "text/x-python",
   "name": "python",
   "nbconvert_exporter": "python",
   "pygments_lexer": "ipython3",
   "version": "3.6.12"
  }
 },
 "nbformat": 4,
 "nbformat_minor": 5
}
